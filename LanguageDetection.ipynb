{
 "cells": [
  {
   "cell_type": "code",
   "execution_count": 2,
   "metadata": {},
   "outputs": [],
   "source": [
    "from nltk.corpus import stopwords\n",
    "from nltk.tokenize import wordpunct_tokenize"
   ]
  },
  {
   "cell_type": "code",
   "execution_count": 10,
   "metadata": {},
   "outputs": [
    {
     "name": "stdout",
     "output_type": "stream",
     "text": [
      "hinglish\n",
      "hinglish\n",
      "spanish\n",
      "german\n",
      "italian\n",
      "portuguese\n",
      "russian\n"
     ]
    }
   ],
   "source": [
    "def detectLanguage(text):\n",
    "    languages_ratios = {}\n",
    "    tokens = wordpunct_tokenize(text)\n",
    "    words = [word.lower() for word in tokens]\n",
    "\n",
    "    for language in stopwords.fileids():\n",
    "        stopwords_set = set(stopwords.words(language))\n",
    "        words_set = set(words)\n",
    "        common_elements = words_set.intersection(stopwords_set)\n",
    "        languages_ratios[language] = len(common_elements)\n",
    "\n",
    "    mostRatedLanguage = max(languages_ratios, key=languages_ratios.get)\n",
    "    return mostRatedLanguage\n",
    "\n",
    "text = \"Bonjour tout le monde. Comment ça va aujourd'hui?\"\n",
    "text1 = \"Hello everyone. How are you doing today?\"\n",
    "text2 = \"Hola mundo, mi nombre es Efren Garcia, soy doctor\"\n",
    "text3 = \"Hallo zusammen. Wie geht es euch heute?\"\n",
    "text4 = \"Ciao a tutti. Come state oggi?\"\n",
    "text5 = \"Olá a todos. Como vocês estão hoje?\"\n",
    "text6 = \"Всем привет. Как вы сегодня?\"\n",
    "\n",
    "print(detectLanguage(text))\n",
    "print(detectLanguage(text1))\n",
    "print(detectLanguage(text2))\n",
    "print(detectLanguage(text3))\n",
    "print(detectLanguage(text4))\n",
    "print(detectLanguage(text5))\n",
    "print(detectLanguage(text6))\n"
   ]
  },
  {
   "cell_type": "code",
   "execution_count": null,
   "metadata": {},
   "outputs": [],
   "source": []
  }
 ],
 "metadata": {
  "kernelspec": {
   "display_name": "venvNLP_LanguageDetection",
   "language": "python",
   "name": "python3"
  },
  "language_info": {
   "codemirror_mode": {
    "name": "ipython",
    "version": 3
   },
   "file_extension": ".py",
   "mimetype": "text/x-python",
   "name": "python",
   "nbconvert_exporter": "python",
   "pygments_lexer": "ipython3",
   "version": "3.12.4"
  }
 },
 "nbformat": 4,
 "nbformat_minor": 2
}
